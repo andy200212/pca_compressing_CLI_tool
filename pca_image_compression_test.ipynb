{
 "cells": [
  {
   "cell_type": "code",
   "execution_count": 1,
   "metadata": {},
   "outputs": [],
   "source": [
    "#required dependencies\n",
    "import os\n",
    "from pathlib import Path\n",
    "import numpy as np\n",
    "from matplotlib.image import imread\n",
    "import matplotlib.pyplot as plt\n"
   ]
  },
  {
   "cell_type": "code",
   "execution_count": 2,
   "metadata": {},
   "outputs": [],
   "source": [
    "\n",
    "def covariance_matrix(matrix):\n",
    "    # the columns are each of the measurement types\n",
    "    # rows are each of the measurements\n",
    "\n",
    "    \n",
    "    # take the mean along the columns for each of the measurement types\n",
    "    normalized_matrix = (matrix - np.mean(matrix)).T \n",
    "    \n",
    "    # compute the covariance matrix\n",
    "    covariance_matrix = np.matmul(normalized_matrix, normalized_matrix.T) / (normalized_matrix.shape[0]-1)\n",
    "    return covariance_matrix\n"
   ]
  },
  {
   "cell_type": "code",
   "execution_count": 3,
   "metadata": {},
   "outputs": [],
   "source": [
    "    \n",
    "def slice_eigen(color_matrix, num_components):\n",
    "    \n",
    "    # solve for the eigenvectors and eigenvalues\n",
    "    evalues, evectors = np.linalg.eigh(covariance_matrix(color_matrix))\n",
    "    if (num_components > len(evalues)):\n",
    "        num_components = len(evalues)\n",
    "        \n",
    "    # slice the desired principal components\n",
    "    desired_index = np.argsort(evalues)[::-1][:num_components]\n",
    "    sorted_evalues = evalues[desired_index]\n",
    "    sorted_evectors = evectors[:,desired_index]\n",
    "    return sorted_evalues, sorted_evectors\n"
   ]
  },
  {
   "cell_type": "code",
   "execution_count": 4,
   "metadata": {},
   "outputs": [],
   "source": [
    "\n",
    "def build_color_matrix(color_matrix, num_components):\n",
    "    reval, revectors = slice_eigen(color_matrix, num_components)\n",
    "    \n",
    "    # compute the projection\n",
    "    res = np.dot(revectors.T, (color_matrix - np.mean(color_matrix)).T)\n",
    "    resul = np.dot(revectors, res)\n",
    "    \n",
    "    # need to reverse normalize the color_matrix so that it is centered on the mean of the original matrix\n",
    "    resultt = (resul + np.mean(color_matrix)).T \n",
    "    \n",
    "    # clean the data so that it is integers\n",
    "    final = np.uint8(np.absolute(resultt)) \n",
    "    return final\n"
   ]
  },
  {
   "cell_type": "code",
   "execution_count": 5,
   "metadata": {},
   "outputs": [],
   "source": [
    "\n",
    "def create_new_image(file_name, num_components):\n",
    "    # read image data into a matrix\n",
    "    test_directory = 'test_files/'\n",
    "    raw = imread(test_directory+file_name)\n",
    "    \n",
    "    # extract the RGB bytes\n",
    "    r = raw[:, :, 0]\n",
    "    g = raw[:, :, 1]\n",
    "    b = raw[:, :, 2]\n",
    "    \n",
    "    # build each matrix using the functions defined above\n",
    "    r_new = build_color_matrix(r, num_components)\n",
    "    g_new = build_color_matrix(g, num_components)\n",
    "    b_new = build_color_matrix(b, num_components)\n",
    "    \n",
    "    # stack the color matrices\n",
    "    new_image = np.dstack((r_new, g_new, b_new))\n",
    "    \n",
    "    # new file name and saving the file\n",
    "    new_file_name = file_name.split('.')[0] + '_' + str(num_components) + '_result.' + file_name.split('.')[1]\n",
    "    result_directory = 'result_files/'\n",
    "    plt.imsave(result_directory + new_file_name, new_image)\n",
    "    "
   ]
  },
  {
   "cell_type": "code",
   "execution_count": 6,
   "metadata": {},
   "outputs": [],
   "source": [
    "\n",
    "# if the result_files folder does not exist, create it\n",
    "if not Path('result_files').is_dir():\n",
    "      os.makedirs('result_files')\n",
    "        \n",
    "# Choose your image and number of components\n",
    "# place the image in the test_files folder\n",
    "\n",
    "num_components = 100\n",
    "\n",
    "# use just the file name, not the whole path name\n",
    "\n",
    "create_new_image(\"eiffel.jpg\", num_components)\n"
   ]
  }
 ],
 "metadata": {
  "kernelspec": {
   "display_name": "Python 3",
   "language": "python",
   "name": "python3"
  },
  "language_info": {
   "codemirror_mode": {
    "name": "ipython",
    "version": 3
   },
   "file_extension": ".py",
   "mimetype": "text/x-python",
   "name": "python",
   "nbconvert_exporter": "python",
   "pygments_lexer": "ipython3",
   "version": "3.7.6"
  }
 },
 "nbformat": 4,
 "nbformat_minor": 4
}
