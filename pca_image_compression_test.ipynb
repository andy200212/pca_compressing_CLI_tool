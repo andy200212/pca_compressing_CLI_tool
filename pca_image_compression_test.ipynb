{
 "cells": [
  {
   "cell_type": "code",
   "execution_count": 5,
   "metadata": {},
   "outputs": [],
   "source": [
    "#required dependencies\n",
    "\n",
    "import numpy as np\n",
    "from matplotlib.image import imread\n",
    "import matplotlib.pyplot as plt\n"
   ]
  },
  {
   "cell_type": "code",
   "execution_count": 6,
   "metadata": {},
   "outputs": [],
   "source": [
    "\n",
    "def covariance_matrix(matrix):\n",
    "    # the columns are each of the measurement types\n",
    "    # rows are each of the measurements\n",
    "\n",
    "    \n",
    "    # take the mean along the columns for each of the measurement types\n",
    "    normalized_matrix = (matrix - np.mean(matrix)).T \n",
    "    \n",
    "    # compute the covariance matrix\n",
    "    covariance_matrix = np.matmul(normalized_matrix, normalized_matrix.T) / (normalized_matrix.shape[0]-1)\n",
    "    return covariance_matrix\n"
   ]
  },
  {
   "cell_type": "code",
   "execution_count": 7,
   "metadata": {},
   "outputs": [],
   "source": [
    "    \n",
    "def slice_eigen(color_matrix, num_components):\n",
    "    \n",
    "    # solve for the eigenvectors and eigenvalues\n",
    "    evalues, evectors = np.linalg.eigh(covariance_matrix(color_matrix))\n",
    "    if (num_components > len(evalues)):\n",
    "        num_components = len(evalues)\n",
    "        \n",
    "    # slice the desired principal components\n",
    "    desired_index = np.argsort(evalues)[::-1][:num_components]\n",
    "    sorted_evalues = evalues[desired_index]\n",
    "    sorted_evectors = evectors[:,desired_index]\n",
    "    return sorted_evalues, sorted_evectors\n"
   ]
  },
  {
   "cell_type": "code",
   "execution_count": 8,
   "metadata": {},
   "outputs": [],
   "source": [
    "\n",
    "def build_color_matrix(color_matrix, num_components):\n",
    "    reval, revectors = slice_eigen(color_matrix, num_components)\n",
    "    \n",
    "    # compute the projection\n",
    "    res = np.dot(revectors.T, (color_matrix - np.mean(color_matrix)).T)\n",
    "    resul = np.dot(revectors, res)\n",
    "    \n",
    "    # need to reverse normalize the color_matrix so that it is centered on the mean of the original matrix\n",
    "    resultt = (resul + np.mean(color_matrix)).T \n",
    "    \n",
    "    # clean the data so that it is integers\n",
    "    final = np.uint8(np.absolute(resultt)) \n",
    "    return final\n"
   ]
  },
  {
   "cell_type": "code",
   "execution_count": 9,
   "metadata": {},
   "outputs": [],
   "source": [
    "\n",
    "def create_new_image(file_name, num_components):\n",
    "    # read image data into a matrix\n",
    "    raw = imread(file_name)\n",
    "    \n",
    "    # extract the RGB bytes\n",
    "    r = raw[:, :, 0]\n",
    "    g = raw[:, :, 1]\n",
    "    b = raw[:, :, 2]\n",
    "    \n",
    "    # build each matrix using the functions defined above\n",
    "    r_new = build_color_matrix(r, num_components)\n",
    "    g_new = build_color_matrix(g, num_components)\n",
    "    b_new = build_color_matrix(b, num_components)\n",
    "    \n",
    "    # stack the color matrices\n",
    "    new_image = np.dstack((r_new, g_new, b_new))\n",
    "    \n",
    "    # new file name and saving the file\n",
    "    new_file_name = file_name.split('.')[0] + '_result.' + file_name.split('.')[1]\n",
    "    plt.imsave(new_file_name, new_image)\n",
    "    "
   ]
  },
  {
   "cell_type": "code",
   "execution_count": 10,
   "metadata": {},
   "outputs": [],
   "source": [
    "# Choose your image and number of components\n",
    "\n",
    "num_components = 100\n",
    "create_new_image(\"eiffel.jpg\", num_components)\n"
   ]
  }
 ],
 "metadata": {
  "kernelspec": {
   "display_name": "Python 3",
   "language": "python",
   "name": "python3"
  },
  "language_info": {
   "codemirror_mode": {
    "name": "ipython",
    "version": 3
   },
   "file_extension": ".py",
   "mimetype": "text/x-python",
   "name": "python",
   "nbconvert_exporter": "python",
   "pygments_lexer": "ipython3",
   "version": "3.7.6"
  }
 },
 "nbformat": 4,
 "nbformat_minor": 4
}
